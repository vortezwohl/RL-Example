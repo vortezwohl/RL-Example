{
 "cells": [
  {
   "cell_type": "code",
   "execution_count": null,
   "id": "initial_id",
   "metadata": {
    "collapsed": true,
    "is_executing": true,
    "ExecuteTime": {
     "start_time": "2025-08-21T08:45:46.516780Z"
    }
   },
   "outputs": [],
   "source": [
    "import torch\n",
    "from torch import nn\n",
    "from deeplotx import MultiHeadFeedForward\n",
    "from stable_baselines3.common.policies import ActorCriticPolicy\n",
    "\n",
    "\n",
    "class MyActorCriticPolicy(nn.Module):\n",
    "    def __init__(self, feature_dim: int, policy_output_dim: int, value_output_dim: int, device: str = 'cpu', dtype: torch.dtype = torch.float32):\n",
    "        super().__init__()  \n",
    "        self.latent_dim_pi = policy_output_dim  \n",
    "        self.latent_dim_vf = value_output_dim  \n",
    "        self.policy_net = nn.Sequential(  \n",
    "            MultiHeadFeedForward(feature_dim=feature_dim, num_heads=3, device=device, dtype=dtype), nn.Linear(in_features=feature_dim, out_features=policy_output_dim, device=torch.device(device), dtype=dtype)\n",
    "        )  \n",
    "        self.value_net = nn.Sequential(  \n",
    "            MultiHeadFeedForward(feature_dim=feature_dim, num_heads=3, device=device, dtype=dtype), nn.Linear(in_features=feature_dim, out_features=value_output_dim, device=torch.device(device), dtype=dtype)\n",
    "        )  \n",
    "\n",
    "\n",
    "class MyRLModel(ActorCriticPolicy):\n",
    "    def _build_mlp_extractor(self) -> None:  \n",
    "        self.mlp_extractor = MyActorCriticPolicy(self.features_dim(), 64, 64)"
   ]
  },
  {
   "cell_type": "code",
   "outputs": [],
   "source": [
    "from stable_baselines3 import PPO\n",
    "model = PPO(MyRLModel, \"CartPole-v1\", verbose=1)"
   ],
   "metadata": {
    "collapsed": false,
    "is_executing": true
   },
   "id": "1ecd0ddd21afd256"
  }
 ],
 "metadata": {
  "kernelspec": {
   "display_name": "Python 3",
   "language": "python",
   "name": "python3"
  },
  "language_info": {
   "codemirror_mode": {
    "name": "ipython",
    "version": 2
   },
   "file_extension": ".py",
   "mimetype": "text/x-python",
   "name": "python",
   "nbconvert_exporter": "python",
   "pygments_lexer": "ipython2",
   "version": "2.7.6"
  }
 },
 "nbformat": 4,
 "nbformat_minor": 5
}
