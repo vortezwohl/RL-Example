{
 "cells": [
  {
   "cell_type": "code",
   "execution_count": 4,
   "id": "initial_id",
   "metadata": {
    "collapsed": true,
    "ExecuteTime": {
     "end_time": "2025-08-27T10:23:00.237452Z",
     "start_time": "2025-08-27T10:22:55.199211Z"
    }
   },
   "outputs": [],
   "source": [
    "import torch\n",
    "from torch import nn\n",
    "from deeplotx import MultiHeadFeedForward\n",
    "from stable_baselines3.common.policies import ActorCriticPolicy\n",
    "\n",
    "\n",
    "class MyActorCritic(nn.Module):\n",
    "    def __init__(self, feature_dim: int, policy_output_dim: int, value_output_dim: int, device: str = 'cpu', dtype: torch.dtype = torch.float32):\n",
    "        super().__init__()  \n",
    "        self.latent_dim_pi = policy_output_dim  \n",
    "        self.latent_dim_vf = value_output_dim  \n",
    "        self.policy_net = nn.Sequential(  \n",
    "            MultiHeadFeedForward(feature_dim=feature_dim, num_heads=50, device=device, dtype=dtype), nn.Linear(in_features=feature_dim, out_features=policy_output_dim, device=torch.device(device), dtype=dtype)\n",
    "        )  \n",
    "        self.value_net = nn.Sequential(  \n",
    "            MultiHeadFeedForward(feature_dim=feature_dim, num_heads=50, device=device, dtype=dtype), nn.Linear(in_features=feature_dim, out_features=value_output_dim, device=torch.device(device), dtype=dtype)\n",
    "        )\n",
    "    \n",
    "    def forward(self, x: torch.Tensor) -> tuple[torch.Tensor, torch.Tensor]:\n",
    "        return self.policy_net.forward(x), self.value_net.forward(x)\n",
    "    \n",
    "    def forward_actor(self, x: torch.Tensor):  \n",
    "        return self.policy_net.forward(x)  \n",
    "  \n",
    "    def forward_critic(self, x: torch.Tensor):  \n",
    "        return self.value_net.forward(x)\n",
    "\n",
    "\n",
    "class MyPolicy(ActorCriticPolicy):\n",
    "    def _build_mlp_extractor(self) -> None:  \n",
    "        self.mlp_extractor = MyActorCritic(self.features_dim, 64, 64)"
   ]
  },
  {
   "cell_type": "code",
   "outputs": [],
   "source": [
    "import numpy as np\n",
    "from gymnasium import spaces, Env\n",
    "\n",
    "\n",
    "class VectorClassificationEnv(Env):  \n",
    "    def __init__(self, features: np.ndarray, labels: np.ndarray):  \n",
    "        super().__init__()  \n",
    "        self.observation_space = spaces.Box(  \n",
    "            low=-np.inf, high=np.inf,   \n",
    "            shape=(features.shape[1],),   \n",
    "            dtype=np.float32  \n",
    "        )  \n",
    "        self.action_space = spaces.Discrete(2)  \n",
    "        self.features = features\n",
    "        self.labels = labels  \n",
    "        self.ptr = 0  \n",
    "      \n",
    "    def step(self, action: int):\n",
    "        true_label = self.labels[self.ptr]  \n",
    "        reward = 1.0 if action == true_label else -1.0  \n",
    "        self.ptr += 1  \n",
    "        terminated = self.ptr >= len(self.features)  \n",
    "        if not terminated:  \n",
    "            observation = self.features[self.ptr]  \n",
    "        else:  \n",
    "            observation = np.zeros(self.observation_space.shape)  \n",
    "        return observation, reward, terminated, False, {}  \n",
    "    \n",
    "    def reset(self, seed=None, options=None):  \n",
    "        super().reset(seed=seed)  \n",
    "        self.ptr = 0  \n",
    "        observation = self.features[self.ptr]\n",
    "        return observation, {}"
   ],
   "metadata": {
    "collapsed": false,
    "ExecuteTime": {
     "end_time": "2025-08-27T10:23:00.242246Z",
     "start_time": "2025-08-27T10:23:00.237452Z"
    }
   },
   "id": "abccbc6ed98d9703",
   "execution_count": 5
  },
  {
   "cell_type": "code",
   "outputs": [
    {
     "ename": "NameError",
     "evalue": "name 'VectorClassificationEnv' is not defined",
     "output_type": "error",
     "traceback": [
      "\u001B[31m---------------------------------------------------------------------------\u001B[39m",
      "\u001B[31mNameError\u001B[39m                                 Traceback (most recent call last)",
      "\u001B[36mCell\u001B[39m\u001B[36m \u001B[39m\u001B[32mIn[3]\u001B[39m\u001B[32m, line 5\u001B[39m\n\u001B[32m      2\u001B[39m \u001B[38;5;28;01mfrom\u001B[39;00m\u001B[38;5;250m \u001B[39m\u001B[34;01mstable_baselines3\u001B[39;00m\u001B[34;01m.\u001B[39;00m\u001B[34;01mcommon\u001B[39;00m\u001B[34;01m.\u001B[39;00m\u001B[34;01mcallbacks\u001B[39;00m\u001B[38;5;250m \u001B[39m\u001B[38;5;28;01mimport\u001B[39;00m EvalCallback, CheckpointCallback  \n\u001B[32m      4\u001B[39m \u001B[38;5;66;03m# 创建 RL 环境\u001B[39;00m\n\u001B[32m----> \u001B[39m\u001B[32m5\u001B[39m env = \u001B[43mVectorClassificationEnv\u001B[49m(np.random.randn(\u001B[32m1000\u001B[39m, \u001B[32m128\u001B[39m), np.random.randint(\u001B[32m0\u001B[39m, \u001B[32m2\u001B[39m, \u001B[32m1000\u001B[39m))\n\u001B[32m      7\u001B[39m \u001B[38;5;66;03m# 定义 PPO 算法实现\u001B[39;00m\n\u001B[32m      8\u001B[39m ppo = PPO(  \n\u001B[32m      9\u001B[39m     policy=MyPolicy,                            \u001B[38;5;66;03m# 策略网络类型\u001B[39;00m\n\u001B[32m     10\u001B[39m     env=env,                                    \u001B[38;5;66;03m# 环境实例\u001B[39;00m\n\u001B[32m   (...)\u001B[39m\u001B[32m     34\u001B[39m     _init_setup_model=\u001B[38;5;28;01mTrue\u001B[39;00m                      \u001B[38;5;66;03m# 是否初始化模型  \u001B[39;00m\n\u001B[32m     35\u001B[39m )\n",
      "\u001B[31mNameError\u001B[39m: name 'VectorClassificationEnv' is not defined"
     ]
    }
   ],
   "source": [
    "from stable_baselines3 import PPO\n",
    "from stable_baselines3.common.callbacks import EvalCallback, CheckpointCallback  \n",
    "\n",
    "# 创建 RL 环境\n",
    "env = VectorClassificationEnv(np.random.randn(1000, 128), np.random.randint(0, 2, 1000))\n",
    "\n",
    "# 定义 PPO 算法实现\n",
    "ppo = PPO(  \n",
    "    policy=MyPolicy,                            # 策略网络类型\n",
    "    env=env,                                    # 环境实例\n",
    "    learning_rate=2e-6,                         # 学习率  \n",
    "    n_steps=2048,                               # 单个 rollout 的采样时间步\n",
    "    batch_size=64,                              # 批次大小  \n",
    "    n_epochs=10,                                # 在单个 rollout buffer 上的训练轮数\n",
    "    gamma=0.99,                                 # 折扣因子\n",
    "    gae_lambda=0.95,                            # GAE lambda 参数  \n",
    "    clip_range=0.2,                             # PPO 裁剪范围  \n",
    "    clip_range_vf=None,                         # 价值函数裁剪范围  \n",
    "    normalize_advantage=True,                   # 是否标准化优势  \n",
    "    ent_coef=0.0,                               # 熵系数\n",
    "    vf_coef=0.5,                                # 价值函数系数\n",
    "    max_grad_norm=0.5,                          # 梯度裁剪最大范数\n",
    "    use_sde=False,                              # 是否使用状态依赖探索 (SDE)\n",
    "    sde_sample_freq=-1,                         # SDE采样频率\n",
    "    rollout_buffer_class=None,                  # rollout 缓冲区类\n",
    "    rollout_buffer_kwargs=None,                 # rollout 缓冲区参数  \n",
    "    target_kl=None,                             # 目标 KL 散度  \n",
    "    stats_window_size=100,                      # 统计窗口大小  \n",
    "    tensorboard_log=None,                       # TensorBoard 日志路径, None 表示不记录日志  \n",
    "    policy_kwargs=None,                         # 策略额外参数  \n",
    "    verbose=2,                                  # 日志详细程度  \n",
    "    seed=None,                                  # 随机种子  \n",
    "    device=\"auto\",                              # 计算设备  \n",
    "    _init_setup_model=True                      # 是否初始化模型  \n",
    ")\n",
    "\n",
    "# 创建训练过程回调函数\n",
    "eval_callback = EvalCallback(env, best_model_save_path='./logs/', log_path='./logs/', eval_freq=500)  \n",
    "checkpoint_callback = CheckpointCallback(save_freq=1000, save_path='./logs/')\n",
    "\n",
    "# 开始训练\n",
    "ppo.learn(  \n",
    "    total_timesteps=50000,  \n",
    "    callback=[eval_callback, checkpoint_callback],  \n",
    "    log_interval=10,  \n",
    "    tb_log_name=\"ppo_run\",  \n",
    "    progress_bar=True  \n",
    ")"
   ],
   "metadata": {
    "collapsed": false,
    "ExecuteTime": {
     "end_time": "2025-08-27T10:22:52.043402Z",
     "start_time": "2025-08-27T10:22:52.015251Z"
    }
   },
   "id": "5ee43c7dc3c4509c",
   "execution_count": 3
  },
  {
   "cell_type": "code",
   "outputs": [
    {
     "ename": "NameError",
     "evalue": "name 'ppo' is not defined",
     "output_type": "error",
     "traceback": [
      "\u001B[31m---------------------------------------------------------------------------\u001B[39m",
      "\u001B[31mNameError\u001B[39m                                 Traceback (most recent call last)",
      "\u001B[36mCell\u001B[39m\u001B[36m \u001B[39m\u001B[32mIn[1]\u001B[39m\u001B[32m, line 1\u001B[39m\n\u001B[32m----> \u001B[39m\u001B[32m1\u001B[39m vec_env = \u001B[43mppo\u001B[49m.get_env()\n\u001B[32m      2\u001B[39m obs = vec_env.reset()\n\u001B[32m      3\u001B[39m \u001B[38;5;28;01mfor\u001B[39;00m i \u001B[38;5;129;01min\u001B[39;00m \u001B[38;5;28mrange\u001B[39m(\u001B[32m1000\u001B[39m):\n",
      "\u001B[31mNameError\u001B[39m: name 'ppo' is not defined"
     ]
    }
   ],
   "source": [
    "vec_env = ppo.get_env()\n",
    "obs = vec_env.reset()\n",
    "for i in range(1000):\n",
    "    action, _states = ppo.predict(obs, deterministic=True)\n",
    "    obs, reward, done, info = vec_env.step(action)\n",
    "    print('Action:', action)\n",
    "    print('State:', _states)\n",
    "    print('Observation:', obs)\n",
    "    print('Reward:', reward)\n",
    "    if done:\n",
    "      obs = vec_env.reset() # env resets automatically"
   ],
   "metadata": {
    "collapsed": false,
    "ExecuteTime": {
     "end_time": "2025-08-27T08:05:32.205523Z",
     "start_time": "2025-08-27T08:05:32.049583Z"
    }
   },
   "id": "eece3ca136e1679d",
   "execution_count": 1
  }
 ],
 "metadata": {
  "kernelspec": {
   "display_name": "Python 3",
   "language": "python",
   "name": "python3"
  },
  "language_info": {
   "codemirror_mode": {
    "name": "ipython",
    "version": 2
   },
   "file_extension": ".py",
   "mimetype": "text/x-python",
   "name": "python",
   "nbconvert_exporter": "python",
   "pygments_lexer": "ipython2",
   "version": "2.7.6"
  }
 },
 "nbformat": 4,
 "nbformat_minor": 5
}
